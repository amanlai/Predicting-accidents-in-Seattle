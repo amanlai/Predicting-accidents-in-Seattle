{
 "cells": [
  {
   "cell_type": "markdown",
   "metadata": {},
   "source": [
    "# <center> Predicting severity of car accidents in Seattle </center>"
   ]
  },
  {
   "cell_type": "markdown",
   "metadata": {},
   "source": [
    "# Import libraries"
   ]
  },
  {
   "cell_type": "code",
   "execution_count": 1,
   "metadata": {},
   "outputs": [],
   "source": [
    "import pandas as pd\n",
    "import numpy as np\n",
    "import matplotlib.pyplot as plt\n",
    "import seaborn as sns\n",
    "%matplotlib inline"
   ]
  },
  {
   "cell_type": "markdown",
   "metadata": {},
   "source": [
    "# Load data set"
   ]
  },
  {
   "cell_type": "code",
   "execution_count": 314,
   "metadata": {},
   "outputs": [],
   "source": [
    "df = pd.read_csv('https://s3.us.cloud-object-storage.appdomain.cloud/cf-courses-data/CognitiveClass/DP0701EN/version-2/Data-Collisions.csv')\n",
    "\n",
    "# used REPORTNO to filter duplicate samples\n",
    "df = df.sort_values('REPORTNO').drop_duplicates(['REPORTNO'])"
   ]
  },
  {
   "cell_type": "code",
   "execution_count": 315,
   "metadata": {},
   "outputs": [
    {
     "data": {
      "text/plain": [
       "INTKEY            0.665742\n",
       "EXCEPTRSNCODE     0.564335\n",
       "EXCEPTRSNDESC     0.971038\n",
       "INATTENTIONIND    0.846900\n",
       "PEDROWNOTGRNT     0.976026\n",
       "SDOTCOLNUM        0.409601\n",
       "SPEEDING          0.952057\n",
       "dtype: float64"
      ]
     },
     "execution_count": 315,
     "metadata": {},
     "output_type": "execute_result"
    }
   ],
   "source": [
    "# check null values as a ratio of the number of observations\n",
    "(df.isnull().sum() / df.shape[0])[df.isnull().sum() / df.shape[0]>0.05]"
   ]
  },
  {
   "cell_type": "markdown",
   "metadata": {},
   "source": [
    "# Data cleaning\n",
    "\n",
    "(i) Correct INATTENTIONIND, PEDROWNOTGRNT, SPEEDING, UNDERINFL for which there shouldn't be missing values.\n",
    "\n",
    "(ii) Correct LIGHTCOND, ROADCOND, JUNCTIONTYPE, WEATHER for which \"Unknown\" is a missing value."
   ]
  },
  {
   "cell_type": "code",
   "execution_count": 316,
   "metadata": {},
   "outputs": [],
   "source": [
    "df['INATTENTIONIND'] = df['INATTENTIONIND'].apply(lambda x: 1 if x=='Y' else 0)\n",
    "df['PEDROWNOTGRNT'] = df['PEDROWNOTGRNT'].apply(lambda x: 1 if x=='Y' else 0)\n",
    "df['SPEEDING'] = df['SPEEDING'].apply(lambda x: 1 if x=='Y' else 0)\n",
    "df['UNDERINFL'] = df['UNDERINFL'].replace('Y',1).replace('N',0).replace('1',1).replace('0',0)\n",
    "\n",
    "df['LIGHTCOND'] = df['LIGHTCOND'].replace('Unknown', np.nan)\n",
    "df['ROADCOND'] = df['ROADCOND'].replace('Unknown', np.nan)\n",
    "df['JUNCTIONTYPE'] = df['JUNCTIONTYPE'].replace('Unknown', np.nan)\n",
    "df['WEATHER'] = df['WEATHER'].replace('Unknown', np.nan)"
   ]
  },
  {
   "cell_type": "markdown",
   "metadata": {},
   "source": [
    "#### Drop the following features as they are redundant or irrelevant"
   ]
  },
  {
   "cell_type": "code",
   "execution_count": 317,
   "metadata": {},
   "outputs": [],
   "source": [
    "todrop = ['SEVERITYCODE.1', 'SEVERITYDESC', \n",
    "          'REPORTNO', 'OBJECTID', 'INCKEY', 'COLDETKEY', 'SDOTCOLNUM', \n",
    "          'ST_COLDESC', 'ST_COLCODE', 'SDOT_COLDESC', 'SDOT_COLCODE', 'HITPARKEDCAR',\n",
    "          'LOCATION', 'EXCEPTRSNCODE', 'EXCEPTRSNDESC', \n",
    "          'INCDATE',\n",
    "          'INTKEY', \n",
    "          'STATUS', 'CROSSWALKKEY', 'SEGLANEKEY']\n",
    "\n",
    "df.drop(columns=todrop, inplace=True) # drop redundant columns"
   ]
  },
  {
   "cell_type": "code",
   "execution_count": 318,
   "metadata": {},
   "outputs": [
    {
     "data": {
      "text/plain": [
       "WEATHER      0.103616\n",
       "ROADCOND     0.103195\n",
       "LIGHTCOND    0.095762\n",
       "dtype: float64"
      ]
     },
     "execution_count": 318,
     "metadata": {},
     "output_type": "execute_result"
    }
   ],
   "source": [
    "(df.isnull().sum() / df.shape[0])[df.isnull().sum() / df.shape[0]>0.05]"
   ]
  },
  {
   "cell_type": "markdown",
   "metadata": {},
   "source": [
    "Convert INCDTTM into a pandas datetime type."
   ]
  },
  {
   "cell_type": "code",
   "execution_count": 320,
   "metadata": {},
   "outputs": [],
   "source": [
    "df['INCDTTM'] = pd.to_datetime(df['INCDTTM'])"
   ]
  },
  {
   "cell_type": "code",
   "execution_count": 330,
   "metadata": {},
   "outputs": [],
   "source": [
    "# drop rows with missing values\n",
    "df.dropna(inplace=True)"
   ]
  },
  {
   "cell_type": "markdown",
   "metadata": {},
   "source": [
    "# Exploratory data analysis"
   ]
  },
  {
   "cell_type": "code",
   "execution_count": 331,
   "metadata": {},
   "outputs": [],
   "source": [
    "# load libraries\n",
    "# since we have categorical variables, the best statistic to use is contingency table and chi-squared test\n",
    "from scipy.stats import chi2_contingency "
   ]
  },
  {
   "cell_type": "markdown",
   "metadata": {},
   "source": [
    "## SEVERITY vs ADDRTYPE"
   ]
  },
  {
   "cell_type": "code",
   "execution_count": 368,
   "metadata": {},
   "outputs": [
    {
     "name": "stdout",
     "output_type": "stream",
     "text": [
      "Pearson correlation between SEVERITYCODE and ADDRTYPE: 1.0\n"
     ]
    },
    {
     "data": {
      "text/html": [
       "<div>\n",
       "<style scoped>\n",
       "    .dataframe tbody tr th:only-of-type {\n",
       "        vertical-align: middle;\n",
       "    }\n",
       "\n",
       "    .dataframe tbody tr th {\n",
       "        vertical-align: top;\n",
       "    }\n",
       "\n",
       "    .dataframe thead th {\n",
       "        text-align: right;\n",
       "    }\n",
       "</style>\n",
       "<table border=\"1\" class=\"dataframe\">\n",
       "  <thead>\n",
       "    <tr style=\"text-align: right;\">\n",
       "      <th>ADDRTYPE</th>\n",
       "      <th>Block</th>\n",
       "      <th>Intersection</th>\n",
       "    </tr>\n",
       "    <tr>\n",
       "      <th>SEVERITYCODE</th>\n",
       "      <th></th>\n",
       "      <th></th>\n",
       "    </tr>\n",
       "  </thead>\n",
       "  <tbody>\n",
       "    <tr>\n",
       "      <th>1</th>\n",
       "      <td>76229</td>\n",
       "      <td>34279</td>\n",
       "    </tr>\n",
       "    <tr>\n",
       "      <th>2</th>\n",
       "      <td>27936</td>\n",
       "      <td>26740</td>\n",
       "    </tr>\n",
       "  </tbody>\n",
       "</table>\n",
       "</div>"
      ],
      "text/plain": [
       "ADDRTYPE      Block  Intersection\n",
       "SEVERITYCODE                     \n",
       "1             76229         34279\n",
       "2             27936         26740"
      ]
     },
     "execution_count": 368,
     "metadata": {},
     "output_type": "execute_result"
    }
   ],
   "source": [
    "print('Pearson correlation between SEVERITYCODE and ADDRTYPE:', \n",
    "      df.groupby(['SEVERITYCODE','ADDRTYPE'])['SEVERITYCODE'].count().unstack().T\n",
    "      .corr(method='pearson').iloc[0,1].round(3)\n",
    "     )\n",
    "\n",
    "table = (pd.crosstab(df['SEVERITYCODE'], df['ADDRTYPE']) \n",
    " #/ df.groupby('ADDRTYPE')['ADDRTYPE'].count()\n",
    ")\n",
    "table"
   ]
  },
  {
   "cell_type": "code",
   "execution_count": 369,
   "metadata": {},
   "outputs": [
    {
     "name": "stdout",
     "output_type": "stream",
     "text": [
      "stat=5023.09, degrees of freedom=1, p=0.0\n"
     ]
    },
    {
     "data": {
      "text/html": [
       "<div>\n",
       "<style scoped>\n",
       "    .dataframe tbody tr th:only-of-type {\n",
       "        vertical-align: middle;\n",
       "    }\n",
       "\n",
       "    .dataframe tbody tr th {\n",
       "        vertical-align: top;\n",
       "    }\n",
       "\n",
       "    .dataframe thead th {\n",
       "        text-align: right;\n",
       "    }\n",
       "</style>\n",
       "<table border=\"1\" class=\"dataframe\">\n",
       "  <thead>\n",
       "    <tr style=\"text-align: right;\">\n",
       "      <th>ADDRTYPE</th>\n",
       "      <th>Block</th>\n",
       "      <th>Intersection</th>\n",
       "    </tr>\n",
       "  </thead>\n",
       "  <tbody>\n",
       "    <tr>\n",
       "      <th>1</th>\n",
       "      <td>69686.32</td>\n",
       "      <td>40821.68</td>\n",
       "    </tr>\n",
       "    <tr>\n",
       "      <th>2</th>\n",
       "      <td>34478.68</td>\n",
       "      <td>20197.32</td>\n",
       "    </tr>\n",
       "  </tbody>\n",
       "</table>\n",
       "</div>"
      ],
      "text/plain": [
       "ADDRTYPE     Block  Intersection\n",
       "1         69686.32      40821.68\n",
       "2         34478.68      20197.32"
      ]
     },
     "execution_count": 369,
     "metadata": {},
     "output_type": "execute_result"
    }
   ],
   "source": [
    "stat, p, dof, expected = chi2_contingency(table)\n",
    "print('stat={}, degrees of freedom={}, p={}'.format(round(stat,2), dof, p))\n",
    "expected = pd.DataFrame(expected.round(2), columns=table.columns, index=[1,2])\n",
    "expected"
   ]
  },
  {
   "cell_type": "code",
   "execution_count": 372,
   "metadata": {},
   "outputs": [
    {
     "data": {
      "text/plain": [
       "['Intersection']"
      ]
     },
     "execution_count": 372,
     "metadata": {},
     "output_type": "execute_result"
    }
   ],
   "source": [
    "# the categorical value where there are more injuries than expected\n",
    "diff_df = (table-expected).iloc[1][(table-expected).iloc[1]>=0].index.tolist()\n",
    "diff_df"
   ]
  },
  {
   "cell_type": "code",
   "execution_count": 374,
   "metadata": {},
   "outputs": [],
   "source": [
    "# create a dummy variable that takes value 1 if above ADDRTYPE takes the above categorical value and 0 otherwise\n",
    "df['INTERSECTION'] = df['ADDRTYPE'].apply(lambda x: 1 if x in diff_df else 0)"
   ]
  },
  {
   "cell_type": "markdown",
   "metadata": {},
   "source": [
    "## SEVERITYCODE vs COLLISIONTYPE"
   ]
  },
  {
   "cell_type": "code",
   "execution_count": 375,
   "metadata": {},
   "outputs": [
    {
     "name": "stdout",
     "output_type": "stream",
     "text": [
      "Pearson correlation between SEVERITYCODE and COLLISIONTYPE: 0.381\n"
     ]
    },
    {
     "data": {
      "text/html": [
       "<div>\n",
       "<style scoped>\n",
       "    .dataframe tbody tr th:only-of-type {\n",
       "        vertical-align: middle;\n",
       "    }\n",
       "\n",
       "    .dataframe tbody tr th {\n",
       "        vertical-align: top;\n",
       "    }\n",
       "\n",
       "    .dataframe thead th {\n",
       "        text-align: right;\n",
       "    }\n",
       "</style>\n",
       "<table border=\"1\" class=\"dataframe\">\n",
       "  <thead>\n",
       "    <tr style=\"text-align: right;\">\n",
       "      <th>COLLISIONTYPE</th>\n",
       "      <th>Angles</th>\n",
       "      <th>Cycles</th>\n",
       "      <th>Head On</th>\n",
       "      <th>Left Turn</th>\n",
       "      <th>Other</th>\n",
       "      <th>Parked Car</th>\n",
       "      <th>Pedestrian</th>\n",
       "      <th>Rear Ended</th>\n",
       "      <th>Right Turn</th>\n",
       "      <th>Sideswipe</th>\n",
       "    </tr>\n",
       "    <tr>\n",
       "      <th>SEVERITYCODE</th>\n",
       "      <th></th>\n",
       "      <th></th>\n",
       "      <th></th>\n",
       "      <th></th>\n",
       "      <th></th>\n",
       "      <th></th>\n",
       "      <th></th>\n",
       "      <th></th>\n",
       "      <th></th>\n",
       "      <th></th>\n",
       "    </tr>\n",
       "  </thead>\n",
       "  <tbody>\n",
       "    <tr>\n",
       "      <th>1</th>\n",
       "      <td>20282</td>\n",
       "      <td>604</td>\n",
       "      <td>1084</td>\n",
       "      <td>7984</td>\n",
       "      <td>15414</td>\n",
       "      <td>29816</td>\n",
       "      <td>629</td>\n",
       "      <td>17805</td>\n",
       "      <td>2186</td>\n",
       "      <td>14704</td>\n",
       "    </tr>\n",
       "    <tr>\n",
       "      <th>2</th>\n",
       "      <td>13362</td>\n",
       "      <td>4566</td>\n",
       "      <td>847</td>\n",
       "      <td>5319</td>\n",
       "      <td>5630</td>\n",
       "      <td>2574</td>\n",
       "      <td>5612</td>\n",
       "      <td>13821</td>\n",
       "      <td>589</td>\n",
       "      <td>2356</td>\n",
       "    </tr>\n",
       "  </tbody>\n",
       "</table>\n",
       "</div>"
      ],
      "text/plain": [
       "COLLISIONTYPE  Angles  Cycles  Head On  Left Turn  Other  Parked Car  \\\n",
       "SEVERITYCODE                                                           \n",
       "1               20282     604     1084       7984  15414       29816   \n",
       "2               13362    4566      847       5319   5630        2574   \n",
       "\n",
       "COLLISIONTYPE  Pedestrian  Rear Ended  Right Turn  Sideswipe  \n",
       "SEVERITYCODE                                                  \n",
       "1                     629       17805        2186      14704  \n",
       "2                    5612       13821         589       2356  "
      ]
     },
     "execution_count": 375,
     "metadata": {},
     "output_type": "execute_result"
    }
   ],
   "source": [
    "print('Pearson correlation between SEVERITYCODE and COLLISIONTYPE:', \n",
    "      df.groupby(['SEVERITYCODE','COLLISIONTYPE'])['SEVERITYCODE'].count().unstack().T\n",
    "      .corr(method='pearson').iloc[0,1].round(3)) \n",
    "\n",
    "table = (pd.crosstab(df['SEVERITYCODE'], df['COLLISIONTYPE']) \n",
    " #/ df.groupby('COLLISIONTYPE')['COLLISIONTYPE'].count()\n",
    ")#.round(2)\n",
    "\n",
    "table"
   ]
  },
  {
   "cell_type": "code",
   "execution_count": 376,
   "metadata": {},
   "outputs": [
    {
     "name": "stdout",
     "output_type": "stream",
     "text": [
      "stat=31554.34, degrees of freedom=9, p=0.0\n"
     ]
    },
    {
     "data": {
      "text/html": [
       "<div>\n",
       "<style scoped>\n",
       "    .dataframe tbody tr th:only-of-type {\n",
       "        vertical-align: middle;\n",
       "    }\n",
       "\n",
       "    .dataframe tbody tr th {\n",
       "        vertical-align: top;\n",
       "    }\n",
       "\n",
       "    .dataframe thead th {\n",
       "        text-align: right;\n",
       "    }\n",
       "</style>\n",
       "<table border=\"1\" class=\"dataframe\">\n",
       "  <thead>\n",
       "    <tr style=\"text-align: right;\">\n",
       "      <th>COLLISIONTYPE</th>\n",
       "      <th>Angles</th>\n",
       "      <th>Cycles</th>\n",
       "      <th>Head On</th>\n",
       "      <th>Left Turn</th>\n",
       "      <th>Other</th>\n",
       "      <th>Parked Car</th>\n",
       "      <th>Pedestrian</th>\n",
       "      <th>Rear Ended</th>\n",
       "      <th>Right Turn</th>\n",
       "      <th>Sideswipe</th>\n",
       "    </tr>\n",
       "  </thead>\n",
       "  <tbody>\n",
       "    <tr>\n",
       "      <th>1</th>\n",
       "      <td>22507.82</td>\n",
       "      <td>3458.73</td>\n",
       "      <td>1291.84</td>\n",
       "      <td>8899.7</td>\n",
       "      <td>14078.42</td>\n",
       "      <td>21668.89</td>\n",
       "      <td>4175.23</td>\n",
       "      <td>21157.78</td>\n",
       "      <td>1856.47</td>\n",
       "      <td>11413.13</td>\n",
       "    </tr>\n",
       "    <tr>\n",
       "      <th>2</th>\n",
       "      <td>11136.18</td>\n",
       "      <td>1711.27</td>\n",
       "      <td>639.16</td>\n",
       "      <td>4403.3</td>\n",
       "      <td>6965.58</td>\n",
       "      <td>10721.11</td>\n",
       "      <td>2065.77</td>\n",
       "      <td>10468.22</td>\n",
       "      <td>918.53</td>\n",
       "      <td>5646.87</td>\n",
       "    </tr>\n",
       "  </tbody>\n",
       "</table>\n",
       "</div>"
      ],
      "text/plain": [
       "COLLISIONTYPE    Angles   Cycles  Head On  Left Turn     Other  Parked Car  \\\n",
       "1              22507.82  3458.73  1291.84     8899.7  14078.42    21668.89   \n",
       "2              11136.18  1711.27   639.16     4403.3   6965.58    10721.11   \n",
       "\n",
       "COLLISIONTYPE  Pedestrian  Rear Ended  Right Turn  Sideswipe  \n",
       "1                 4175.23    21157.78     1856.47   11413.13  \n",
       "2                 2065.77    10468.22      918.53    5646.87  "
      ]
     },
     "execution_count": 376,
     "metadata": {},
     "output_type": "execute_result"
    }
   ],
   "source": [
    "# calculate the contingency table\n",
    "stat, p, dof, expected = chi2_contingency(table)\n",
    "print('stat={}, degrees of freedom={}, p={}'.format(round(stat,2), dof, p))\n",
    "expected = pd.DataFrame(expected.round(2), columns=table.columns, index=[1,2])\n",
    "expected"
   ]
  },
  {
   "cell_type": "code",
   "execution_count": 377,
   "metadata": {},
   "outputs": [
    {
     "data": {
      "text/html": [
       "<div>\n",
       "<style scoped>\n",
       "    .dataframe tbody tr th:only-of-type {\n",
       "        vertical-align: middle;\n",
       "    }\n",
       "\n",
       "    .dataframe tbody tr th {\n",
       "        vertical-align: top;\n",
       "    }\n",
       "\n",
       "    .dataframe thead th {\n",
       "        text-align: right;\n",
       "    }\n",
       "</style>\n",
       "<table border=\"1\" class=\"dataframe\">\n",
       "  <thead>\n",
       "    <tr style=\"text-align: right;\">\n",
       "      <th>COLLISIONTYPE</th>\n",
       "      <th>Angles</th>\n",
       "      <th>Cycles</th>\n",
       "      <th>Head On</th>\n",
       "      <th>Left Turn</th>\n",
       "      <th>Other</th>\n",
       "      <th>Parked Car</th>\n",
       "      <th>Pedestrian</th>\n",
       "      <th>Rear Ended</th>\n",
       "      <th>Right Turn</th>\n",
       "      <th>Sideswipe</th>\n",
       "    </tr>\n",
       "  </thead>\n",
       "  <tbody>\n",
       "    <tr>\n",
       "      <th>1</th>\n",
       "      <td>-2225.82</td>\n",
       "      <td>-2854.73</td>\n",
       "      <td>-207.84</td>\n",
       "      <td>-915.7</td>\n",
       "      <td>1335.58</td>\n",
       "      <td>8147.11</td>\n",
       "      <td>-3546.23</td>\n",
       "      <td>-3352.78</td>\n",
       "      <td>329.53</td>\n",
       "      <td>3290.87</td>\n",
       "    </tr>\n",
       "    <tr>\n",
       "      <th>2</th>\n",
       "      <td>2225.82</td>\n",
       "      <td>2854.73</td>\n",
       "      <td>207.84</td>\n",
       "      <td>915.7</td>\n",
       "      <td>-1335.58</td>\n",
       "      <td>-8147.11</td>\n",
       "      <td>3546.23</td>\n",
       "      <td>3352.78</td>\n",
       "      <td>-329.53</td>\n",
       "      <td>-3290.87</td>\n",
       "    </tr>\n",
       "  </tbody>\n",
       "</table>\n",
       "</div>"
      ],
      "text/plain": [
       "COLLISIONTYPE   Angles   Cycles  Head On  Left Turn    Other  Parked Car  \\\n",
       "1             -2225.82 -2854.73  -207.84     -915.7  1335.58     8147.11   \n",
       "2              2225.82  2854.73   207.84      915.7 -1335.58    -8147.11   \n",
       "\n",
       "COLLISIONTYPE  Pedestrian  Rear Ended  Right Turn  Sideswipe  \n",
       "1                -3546.23    -3352.78      329.53    3290.87  \n",
       "2                 3546.23     3352.78     -329.53   -3290.87  "
      ]
     },
     "execution_count": 377,
     "metadata": {},
     "output_type": "execute_result"
    }
   ],
   "source": [
    "table.index.name=None\n",
    "table-expected"
   ]
  },
  {
   "cell_type": "code",
   "execution_count": 378,
   "metadata": {},
   "outputs": [
    {
     "data": {
      "text/plain": [
       "['Angles', 'Cycles', 'Head On', 'Left Turn', 'Pedestrian', 'Rear Ended']"
      ]
     },
     "execution_count": 378,
     "metadata": {},
     "output_type": "execute_result"
    }
   ],
   "source": [
    "# the categorical value where there are more injuries than expected\n",
    "diff_df = (table-expected).iloc[1][(table-expected).iloc[1]>=0].index.tolist()\n",
    "diff_df"
   ]
  },
  {
   "cell_type": "code",
   "execution_count": 382,
   "metadata": {},
   "outputs": [
    {
     "data": {
      "text/html": [
       "<div>\n",
       "<style scoped>\n",
       "    .dataframe tbody tr th:only-of-type {\n",
       "        vertical-align: middle;\n",
       "    }\n",
       "\n",
       "    .dataframe tbody tr th {\n",
       "        vertical-align: top;\n",
       "    }\n",
       "\n",
       "    .dataframe thead th {\n",
       "        text-align: right;\n",
       "    }\n",
       "</style>\n",
       "<table border=\"1\" class=\"dataframe\">\n",
       "  <thead>\n",
       "    <tr style=\"text-align: right;\">\n",
       "      <th>SEVERITYCODE</th>\n",
       "      <th>parked car, right turn, sideswipe or other</th>\n",
       "      <th>Angles, cycles, head on, left turn, pedestrian, or rear ended</th>\n",
       "    </tr>\n",
       "  </thead>\n",
       "  <tbody>\n",
       "    <tr>\n",
       "      <th>1</th>\n",
       "      <td>62120</td>\n",
       "      <td>48388</td>\n",
       "    </tr>\n",
       "    <tr>\n",
       "      <th>2</th>\n",
       "      <td>11149</td>\n",
       "      <td>43527</td>\n",
       "    </tr>\n",
       "  </tbody>\n",
       "</table>\n",
       "</div>"
      ],
      "text/plain": [
       "SEVERITYCODE  parked car, right turn, sideswipe or other  \\\n",
       "1                                                  62120   \n",
       "2                                                  11149   \n",
       "\n",
       "SEVERITYCODE  Angles, cycles, head on, left turn, pedestrian, or rear ended  \n",
       "1                                                         48388              \n",
       "2                                                         43527              "
      ]
     },
     "execution_count": 382,
     "metadata": {},
     "output_type": "execute_result"
    }
   ],
   "source": [
    "# create a dummy variable that takes value 1 if above COLLISIONTYPE takes the above categorical values and 0 otherwise\n",
    "df['COLTYPEDIV'] = df['COLLISIONTYPE'].apply(lambda x: 1 if (x in diff_df) else 0)\n",
    "\n",
    "table = pd.crosstab(df['SEVERITYCODE'], df['COLTYPEDIV'])\n",
    "table.columns = ['parked car, right turn, sideswipe or other',\n",
    "                 'Angles, cycles, head on, left turn, pedestrian, or rear ended']\n",
    "table.columns.name = 'SEVERITYCODE'\n",
    "table.index.name = None\n",
    "table"
   ]
  },
  {
   "cell_type": "code",
   "execution_count": 383,
   "metadata": {},
   "outputs": [
    {
     "name": "stdout",
     "output_type": "stream",
     "text": [
      "stat=19016.06, degrees of freedom=1, p=0.0\n"
     ]
    },
    {
     "data": {
      "text/html": [
       "<div>\n",
       "<style scoped>\n",
       "    .dataframe tbody tr th:only-of-type {\n",
       "        vertical-align: middle;\n",
       "    }\n",
       "\n",
       "    .dataframe tbody tr th {\n",
       "        vertical-align: top;\n",
       "    }\n",
       "\n",
       "    .dataframe thead th {\n",
       "        text-align: right;\n",
       "    }\n",
       "</style>\n",
       "<table border=\"1\" class=\"dataframe\">\n",
       "  <thead>\n",
       "    <tr style=\"text-align: right;\">\n",
       "      <th>SEVERITYCODE</th>\n",
       "      <th>parked car, right turn, sideswipe or other</th>\n",
       "      <th>Angles, cycles, head on, left turn, pedestrian, or rear ended</th>\n",
       "    </tr>\n",
       "  </thead>\n",
       "  <tbody>\n",
       "    <tr>\n",
       "      <th>1</th>\n",
       "      <td>49016.92</td>\n",
       "      <td>61491.08</td>\n",
       "    </tr>\n",
       "    <tr>\n",
       "      <th>2</th>\n",
       "      <td>24252.08</td>\n",
       "      <td>30423.92</td>\n",
       "    </tr>\n",
       "  </tbody>\n",
       "</table>\n",
       "</div>"
      ],
      "text/plain": [
       "SEVERITYCODE  parked car, right turn, sideswipe or other  \\\n",
       "1                                               49016.92   \n",
       "2                                               24252.08   \n",
       "\n",
       "SEVERITYCODE  Angles, cycles, head on, left turn, pedestrian, or rear ended  \n",
       "1                                                      61491.08              \n",
       "2                                                      30423.92              "
      ]
     },
     "execution_count": 383,
     "metadata": {},
     "output_type": "execute_result"
    }
   ],
   "source": [
    "# calculate contingency table for new categoritcal variable vs the label\n",
    "stat, p, dof, expected = chi2_contingency(table)\n",
    "print('stat={}, degrees of freedom={}, p={}'.format(round(stat,2), dof, p))\n",
    "pd.DataFrame(expected.round(2), columns=table.columns, index=[1,2])"
   ]
  },
  {
   "cell_type": "markdown",
   "metadata": {},
   "source": [
    "## SEVERITYCODE vs JUNCTIONTYPE"
   ]
  },
  {
   "cell_type": "code",
   "execution_count": 384,
   "metadata": {},
   "outputs": [
    {
     "data": {
      "text/html": [
       "<div>\n",
       "<style scoped>\n",
       "    .dataframe tbody tr th:only-of-type {\n",
       "        vertical-align: middle;\n",
       "    }\n",
       "\n",
       "    .dataframe tbody tr th {\n",
       "        vertical-align: top;\n",
       "    }\n",
       "\n",
       "    .dataframe thead th {\n",
       "        text-align: right;\n",
       "    }\n",
       "</style>\n",
       "<table border=\"1\" class=\"dataframe\">\n",
       "  <thead>\n",
       "    <tr style=\"text-align: right;\">\n",
       "      <th>JUNCTIONTYPE</th>\n",
       "      <th>At Intersection (but not related to intersection)</th>\n",
       "      <th>At Intersection (intersection related)</th>\n",
       "      <th>Driveway Junction</th>\n",
       "      <th>Mid-Block (but intersection related)</th>\n",
       "      <th>Mid-Block (not related to intersection)</th>\n",
       "      <th>Ramp Junction</th>\n",
       "    </tr>\n",
       "    <tr>\n",
       "      <th>SEVERITYCODE</th>\n",
       "      <th></th>\n",
       "      <th></th>\n",
       "      <th></th>\n",
       "      <th></th>\n",
       "      <th></th>\n",
       "      <th></th>\n",
       "    </tr>\n",
       "  </thead>\n",
       "  <tbody>\n",
       "    <tr>\n",
       "      <th>1</th>\n",
       "      <td>1184</td>\n",
       "      <td>33079</td>\n",
       "      <td>6786</td>\n",
       "      <td>14030</td>\n",
       "      <td>55339</td>\n",
       "      <td>90</td>\n",
       "    </tr>\n",
       "    <tr>\n",
       "      <th>2</th>\n",
       "      <td>595</td>\n",
       "      <td>26135</td>\n",
       "      <td>3119</td>\n",
       "      <td>6894</td>\n",
       "      <td>17888</td>\n",
       "      <td>45</td>\n",
       "    </tr>\n",
       "  </tbody>\n",
       "</table>\n",
       "</div>"
      ],
      "text/plain": [
       "JUNCTIONTYPE  At Intersection (but not related to intersection)  \\\n",
       "SEVERITYCODE                                                      \n",
       "1                                                          1184   \n",
       "2                                                           595   \n",
       "\n",
       "JUNCTIONTYPE  At Intersection (intersection related)  Driveway Junction  \\\n",
       "SEVERITYCODE                                                              \n",
       "1                                              33079               6786   \n",
       "2                                              26135               3119   \n",
       "\n",
       "JUNCTIONTYPE  Mid-Block (but intersection related)  \\\n",
       "SEVERITYCODE                                         \n",
       "1                                            14030   \n",
       "2                                             6894   \n",
       "\n",
       "JUNCTIONTYPE  Mid-Block (not related to intersection)  Ramp Junction  \n",
       "SEVERITYCODE                                                          \n",
       "1                                               55339             90  \n",
       "2                                               17888             45  "
      ]
     },
     "execution_count": 384,
     "metadata": {},
     "output_type": "execute_result"
    }
   ],
   "source": [
    "table = pd.crosstab(df['SEVERITYCODE'], df['JUNCTIONTYPE'])\n",
    "table"
   ]
  },
  {
   "cell_type": "code",
   "execution_count": 385,
   "metadata": {},
   "outputs": [
    {
     "name": "stdout",
     "output_type": "stream",
     "text": [
      "stat=5755.85, degrees of freedom=5, p=0.0\n"
     ]
    },
    {
     "data": {
      "text/html": [
       "<div>\n",
       "<style scoped>\n",
       "    .dataframe tbody tr th:only-of-type {\n",
       "        vertical-align: middle;\n",
       "    }\n",
       "\n",
       "    .dataframe tbody tr th {\n",
       "        vertical-align: top;\n",
       "    }\n",
       "\n",
       "    .dataframe thead th {\n",
       "        text-align: right;\n",
       "    }\n",
       "</style>\n",
       "<table border=\"1\" class=\"dataframe\">\n",
       "  <thead>\n",
       "    <tr style=\"text-align: right;\">\n",
       "      <th>JUNCTIONTYPE</th>\n",
       "      <th>At Intersection (but not related to intersection)</th>\n",
       "      <th>At Intersection (intersection related)</th>\n",
       "      <th>Driveway Junction</th>\n",
       "      <th>Mid-Block (but intersection related)</th>\n",
       "      <th>Mid-Block (not related to intersection)</th>\n",
       "      <th>Ramp Junction</th>\n",
       "    </tr>\n",
       "  </thead>\n",
       "  <tbody>\n",
       "    <tr>\n",
       "      <th>1</th>\n",
       "      <td>1190.15</td>\n",
       "      <td>39614.13</td>\n",
       "      <td>6626.44</td>\n",
       "      <td>13998.14</td>\n",
       "      <td>48988.82</td>\n",
       "      <td>90.31</td>\n",
       "    </tr>\n",
       "    <tr>\n",
       "      <th>2</th>\n",
       "      <td>588.85</td>\n",
       "      <td>19599.87</td>\n",
       "      <td>3278.56</td>\n",
       "      <td>6925.86</td>\n",
       "      <td>24238.18</td>\n",
       "      <td>44.69</td>\n",
       "    </tr>\n",
       "  </tbody>\n",
       "</table>\n",
       "</div>"
      ],
      "text/plain": [
       "JUNCTIONTYPE  At Intersection (but not related to intersection)  \\\n",
       "1                                                       1190.15   \n",
       "2                                                        588.85   \n",
       "\n",
       "JUNCTIONTYPE  At Intersection (intersection related)  Driveway Junction  \\\n",
       "1                                           39614.13            6626.44   \n",
       "2                                           19599.87            3278.56   \n",
       "\n",
       "JUNCTIONTYPE  Mid-Block (but intersection related)  \\\n",
       "1                                         13998.14   \n",
       "2                                          6925.86   \n",
       "\n",
       "JUNCTIONTYPE  Mid-Block (not related to intersection)  Ramp Junction  \n",
       "1                                            48988.82          90.31  \n",
       "2                                            24238.18          44.69  "
      ]
     },
     "execution_count": 385,
     "metadata": {},
     "output_type": "execute_result"
    }
   ],
   "source": [
    "stat, p, dof, expected = chi2_contingency(table)\n",
    "print('stat={}, degrees of freedom={}, p={}'.format(round(stat,2), dof, p))\n",
    "expected = pd.DataFrame(expected.round(2), columns=table.columns, index=[1,2])\n",
    "expected"
   ]
  },
  {
   "cell_type": "code",
   "execution_count": 386,
   "metadata": {},
   "outputs": [
    {
     "data": {
      "text/html": [
       "<div>\n",
       "<style scoped>\n",
       "    .dataframe tbody tr th:only-of-type {\n",
       "        vertical-align: middle;\n",
       "    }\n",
       "\n",
       "    .dataframe tbody tr th {\n",
       "        vertical-align: top;\n",
       "    }\n",
       "\n",
       "    .dataframe thead th {\n",
       "        text-align: right;\n",
       "    }\n",
       "</style>\n",
       "<table border=\"1\" class=\"dataframe\">\n",
       "  <thead>\n",
       "    <tr style=\"text-align: right;\">\n",
       "      <th>JUNCTIONTYPE</th>\n",
       "      <th>At Intersection (but not related to intersection)</th>\n",
       "      <th>At Intersection (intersection related)</th>\n",
       "      <th>Driveway Junction</th>\n",
       "      <th>Mid-Block (but intersection related)</th>\n",
       "      <th>Mid-Block (not related to intersection)</th>\n",
       "      <th>Ramp Junction</th>\n",
       "    </tr>\n",
       "  </thead>\n",
       "  <tbody>\n",
       "    <tr>\n",
       "      <th>1</th>\n",
       "      <td>-6.15</td>\n",
       "      <td>-6535.13</td>\n",
       "      <td>159.56</td>\n",
       "      <td>31.86</td>\n",
       "      <td>6350.18</td>\n",
       "      <td>-0.31</td>\n",
       "    </tr>\n",
       "    <tr>\n",
       "      <th>2</th>\n",
       "      <td>6.15</td>\n",
       "      <td>6535.13</td>\n",
       "      <td>-159.56</td>\n",
       "      <td>-31.86</td>\n",
       "      <td>-6350.18</td>\n",
       "      <td>0.31</td>\n",
       "    </tr>\n",
       "  </tbody>\n",
       "</table>\n",
       "</div>"
      ],
      "text/plain": [
       "JUNCTIONTYPE  At Intersection (but not related to intersection)  \\\n",
       "1                                                         -6.15   \n",
       "2                                                          6.15   \n",
       "\n",
       "JUNCTIONTYPE  At Intersection (intersection related)  Driveway Junction  \\\n",
       "1                                           -6535.13             159.56   \n",
       "2                                            6535.13            -159.56   \n",
       "\n",
       "JUNCTIONTYPE  Mid-Block (but intersection related)  \\\n",
       "1                                            31.86   \n",
       "2                                           -31.86   \n",
       "\n",
       "JUNCTIONTYPE  Mid-Block (not related to intersection)  Ramp Junction  \n",
       "1                                             6350.18          -0.31  \n",
       "2                                            -6350.18           0.31  "
      ]
     },
     "execution_count": 386,
     "metadata": {},
     "output_type": "execute_result"
    }
   ],
   "source": [
    "table.index.name=None\n",
    "table-expected"
   ]
  },
  {
   "cell_type": "code",
   "execution_count": 387,
   "metadata": {},
   "outputs": [
    {
     "data": {
      "text/plain": [
       "['At Intersection (but not related to intersection)',\n",
       " 'At Intersection (intersection related)',\n",
       " 'Ramp Junction']"
      ]
     },
     "execution_count": 387,
     "metadata": {},
     "output_type": "execute_result"
    }
   ],
   "source": [
    "# the categorical values where there are more injuries than expected\n",
    "diff_df = (table-expected).iloc[1][(table-expected).iloc[1]>=0].index.tolist()\n",
    "diff_df"
   ]
  },
  {
   "cell_type": "markdown",
   "metadata": {},
   "source": [
    "## SEVERITYCODE vs WEATHER"
   ]
  },
  {
   "cell_type": "code",
   "execution_count": 388,
   "metadata": {},
   "outputs": [
    {
     "data": {
      "text/html": [
       "<div>\n",
       "<style scoped>\n",
       "    .dataframe tbody tr th:only-of-type {\n",
       "        vertical-align: middle;\n",
       "    }\n",
       "\n",
       "    .dataframe tbody tr th {\n",
       "        vertical-align: top;\n",
       "    }\n",
       "\n",
       "    .dataframe thead th {\n",
       "        text-align: right;\n",
       "    }\n",
       "</style>\n",
       "<table border=\"1\" class=\"dataframe\">\n",
       "  <thead>\n",
       "    <tr style=\"text-align: right;\">\n",
       "      <th>WEATHER</th>\n",
       "      <th>Blowing Sand/Dirt</th>\n",
       "      <th>Clear</th>\n",
       "      <th>Fog/Smog/Smoke</th>\n",
       "      <th>Other</th>\n",
       "      <th>Overcast</th>\n",
       "      <th>Partly Cloudy</th>\n",
       "      <th>Raining</th>\n",
       "      <th>Severe Crosswind</th>\n",
       "      <th>Sleet/Hail/Freezing Rain</th>\n",
       "      <th>Snowing</th>\n",
       "    </tr>\n",
       "    <tr>\n",
       "      <th>SEVERITYCODE</th>\n",
       "      <th></th>\n",
       "      <th></th>\n",
       "      <th></th>\n",
       "      <th></th>\n",
       "      <th></th>\n",
       "      <th></th>\n",
       "      <th></th>\n",
       "      <th></th>\n",
       "      <th></th>\n",
       "      <th></th>\n",
       "    </tr>\n",
       "  </thead>\n",
       "  <tbody>\n",
       "    <tr>\n",
       "      <th>1</th>\n",
       "      <td>30</td>\n",
       "      <td>70892</td>\n",
       "      <td>355</td>\n",
       "      <td>164</td>\n",
       "      <td>17705</td>\n",
       "      <td>2</td>\n",
       "      <td>20612</td>\n",
       "      <td>17</td>\n",
       "      <td>83</td>\n",
       "      <td>648</td>\n",
       "    </tr>\n",
       "    <tr>\n",
       "      <th>2</th>\n",
       "      <td>13</td>\n",
       "      <td>34977</td>\n",
       "      <td>180</td>\n",
       "      <td>76</td>\n",
       "      <td>8477</td>\n",
       "      <td>3</td>\n",
       "      <td>10753</td>\n",
       "      <td>7</td>\n",
       "      <td>27</td>\n",
       "      <td>163</td>\n",
       "    </tr>\n",
       "  </tbody>\n",
       "</table>\n",
       "</div>"
      ],
      "text/plain": [
       "WEATHER       Blowing Sand/Dirt  Clear  Fog/Smog/Smoke  Other  Overcast  \\\n",
       "SEVERITYCODE                                                              \n",
       "1                            30  70892             355    164     17705   \n",
       "2                            13  34977             180     76      8477   \n",
       "\n",
       "WEATHER       Partly Cloudy  Raining  Severe Crosswind  \\\n",
       "SEVERITYCODE                                             \n",
       "1                         2    20612                17   \n",
       "2                         3    10753                 7   \n",
       "\n",
       "WEATHER       Sleet/Hail/Freezing Rain  Snowing  \n",
       "SEVERITYCODE                                     \n",
       "1                                   83      648  \n",
       "2                                   27      163  "
      ]
     },
     "execution_count": 388,
     "metadata": {},
     "output_type": "execute_result"
    }
   ],
   "source": [
    "table = pd.crosstab(df['SEVERITYCODE'], df['WEATHER'])\n",
    "table"
   ]
  },
  {
   "cell_type": "code",
   "execution_count": 389,
   "metadata": {},
   "outputs": [
    {
     "name": "stdout",
     "output_type": "stream",
     "text": [
      "stat=94.0, degrees of freedom=9, p=2.5610763467779737e-16\n"
     ]
    },
    {
     "data": {
      "text/html": [
       "<div>\n",
       "<style scoped>\n",
       "    .dataframe tbody tr th:only-of-type {\n",
       "        vertical-align: middle;\n",
       "    }\n",
       "\n",
       "    .dataframe tbody tr th {\n",
       "        vertical-align: top;\n",
       "    }\n",
       "\n",
       "    .dataframe thead th {\n",
       "        text-align: right;\n",
       "    }\n",
       "</style>\n",
       "<table border=\"1\" class=\"dataframe\">\n",
       "  <thead>\n",
       "    <tr style=\"text-align: right;\">\n",
       "      <th>WEATHER</th>\n",
       "      <th>Blowing Sand/Dirt</th>\n",
       "      <th>Clear</th>\n",
       "      <th>Fog/Smog/Smoke</th>\n",
       "      <th>Other</th>\n",
       "      <th>Overcast</th>\n",
       "      <th>Partly Cloudy</th>\n",
       "      <th>Raining</th>\n",
       "      <th>Severe Crosswind</th>\n",
       "      <th>Sleet/Hail/Freezing Rain</th>\n",
       "      <th>Snowing</th>\n",
       "    </tr>\n",
       "  </thead>\n",
       "  <tbody>\n",
       "    <tr>\n",
       "      <th>1</th>\n",
       "      <td>28.77</td>\n",
       "      <td>70826.3</td>\n",
       "      <td>357.91</td>\n",
       "      <td>160.56</td>\n",
       "      <td>17515.74</td>\n",
       "      <td>3.34</td>\n",
       "      <td>20983.17</td>\n",
       "      <td>16.06</td>\n",
       "      <td>73.59</td>\n",
       "      <td>542.56</td>\n",
       "    </tr>\n",
       "    <tr>\n",
       "      <th>2</th>\n",
       "      <td>14.23</td>\n",
       "      <td>35042.7</td>\n",
       "      <td>177.09</td>\n",
       "      <td>79.44</td>\n",
       "      <td>8666.26</td>\n",
       "      <td>1.66</td>\n",
       "      <td>10381.83</td>\n",
       "      <td>7.94</td>\n",
       "      <td>36.41</td>\n",
       "      <td>268.44</td>\n",
       "    </tr>\n",
       "  </tbody>\n",
       "</table>\n",
       "</div>"
      ],
      "text/plain": [
       "WEATHER  Blowing Sand/Dirt    Clear  Fog/Smog/Smoke   Other  Overcast  \\\n",
       "1                    28.77  70826.3          357.91  160.56  17515.74   \n",
       "2                    14.23  35042.7          177.09   79.44   8666.26   \n",
       "\n",
       "WEATHER  Partly Cloudy   Raining  Severe Crosswind  Sleet/Hail/Freezing Rain  \\\n",
       "1                 3.34  20983.17             16.06                     73.59   \n",
       "2                 1.66  10381.83              7.94                     36.41   \n",
       "\n",
       "WEATHER  Snowing  \n",
       "1         542.56  \n",
       "2         268.44  "
      ]
     },
     "execution_count": 389,
     "metadata": {},
     "output_type": "execute_result"
    }
   ],
   "source": [
    "stat, p, dof, expected = chi2_contingency(table)\n",
    "print('stat={}, degrees of freedom={}, p={}'.format(round(stat,2), dof, p))\n",
    "expected = pd.DataFrame(expected.round(2), columns=table.columns, index=[1,2])\n",
    "expected"
   ]
  },
  {
   "cell_type": "code",
   "execution_count": 390,
   "metadata": {},
   "outputs": [
    {
     "data": {
      "text/html": [
       "<div>\n",
       "<style scoped>\n",
       "    .dataframe tbody tr th:only-of-type {\n",
       "        vertical-align: middle;\n",
       "    }\n",
       "\n",
       "    .dataframe tbody tr th {\n",
       "        vertical-align: top;\n",
       "    }\n",
       "\n",
       "    .dataframe thead th {\n",
       "        text-align: right;\n",
       "    }\n",
       "</style>\n",
       "<table border=\"1\" class=\"dataframe\">\n",
       "  <thead>\n",
       "    <tr style=\"text-align: right;\">\n",
       "      <th>WEATHER</th>\n",
       "      <th>Blowing Sand/Dirt</th>\n",
       "      <th>Clear</th>\n",
       "      <th>Fog/Smog/Smoke</th>\n",
       "      <th>Other</th>\n",
       "      <th>Overcast</th>\n",
       "      <th>Partly Cloudy</th>\n",
       "      <th>Raining</th>\n",
       "      <th>Severe Crosswind</th>\n",
       "      <th>Sleet/Hail/Freezing Rain</th>\n",
       "      <th>Snowing</th>\n",
       "    </tr>\n",
       "  </thead>\n",
       "  <tbody>\n",
       "    <tr>\n",
       "      <th>1</th>\n",
       "      <td>1.23</td>\n",
       "      <td>65.7</td>\n",
       "      <td>-2.91</td>\n",
       "      <td>3.44</td>\n",
       "      <td>189.26</td>\n",
       "      <td>-1.34</td>\n",
       "      <td>-371.17</td>\n",
       "      <td>0.94</td>\n",
       "      <td>9.41</td>\n",
       "      <td>105.44</td>\n",
       "    </tr>\n",
       "    <tr>\n",
       "      <th>2</th>\n",
       "      <td>-1.23</td>\n",
       "      <td>-65.7</td>\n",
       "      <td>2.91</td>\n",
       "      <td>-3.44</td>\n",
       "      <td>-189.26</td>\n",
       "      <td>1.34</td>\n",
       "      <td>371.17</td>\n",
       "      <td>-0.94</td>\n",
       "      <td>-9.41</td>\n",
       "      <td>-105.44</td>\n",
       "    </tr>\n",
       "  </tbody>\n",
       "</table>\n",
       "</div>"
      ],
      "text/plain": [
       "WEATHER  Blowing Sand/Dirt  Clear  Fog/Smog/Smoke  Other  Overcast  \\\n",
       "1                     1.23   65.7           -2.91   3.44    189.26   \n",
       "2                    -1.23  -65.7            2.91  -3.44   -189.26   \n",
       "\n",
       "WEATHER  Partly Cloudy  Raining  Severe Crosswind  Sleet/Hail/Freezing Rain  \\\n",
       "1                -1.34  -371.17              0.94                      9.41   \n",
       "2                 1.34   371.17             -0.94                     -9.41   \n",
       "\n",
       "WEATHER  Snowing  \n",
       "1         105.44  \n",
       "2        -105.44  "
      ]
     },
     "execution_count": 390,
     "metadata": {},
     "output_type": "execute_result"
    }
   ],
   "source": [
    "table.index.name=None\n",
    "table-expected"
   ]
  },
  {
   "cell_type": "code",
   "execution_count": 391,
   "metadata": {},
   "outputs": [
    {
     "data": {
      "text/plain": [
       "['Fog/Smog/Smoke', 'Partly Cloudy', 'Raining']"
      ]
     },
     "execution_count": 391,
     "metadata": {},
     "output_type": "execute_result"
    }
   ],
   "source": [
    "# the categorical values where there are more injuries than expected\n",
    "diff_df = (table-expected).iloc[1][(table-expected).iloc[1]>=0].index.tolist()\n",
    "diff_df"
   ]
  },
  {
   "cell_type": "code",
   "execution_count": 392,
   "metadata": {},
   "outputs": [],
   "source": [
    "# Define a new categorical value based on the results from the analysis in the above cell.\n",
    "df['BADWEATHER'] = df['WEATHER'].apply(lambda x: 1 if (x in diff_df) else 0)"
   ]
  },
  {
   "cell_type": "markdown",
   "metadata": {},
   "source": [
    "## SEVERITYCODE vs ROADCOND"
   ]
  },
  {
   "cell_type": "code",
   "execution_count": 402,
   "metadata": {},
   "outputs": [
    {
     "data": {
      "text/html": [
       "<div>\n",
       "<style scoped>\n",
       "    .dataframe tbody tr th:only-of-type {\n",
       "        vertical-align: middle;\n",
       "    }\n",
       "\n",
       "    .dataframe tbody tr th {\n",
       "        vertical-align: top;\n",
       "    }\n",
       "\n",
       "    .dataframe thead th {\n",
       "        text-align: right;\n",
       "    }\n",
       "</style>\n",
       "<table border=\"1\" class=\"dataframe\">\n",
       "  <thead>\n",
       "    <tr style=\"text-align: right;\">\n",
       "      <th>ROADCOND</th>\n",
       "      <th>Dry</th>\n",
       "      <th>Ice</th>\n",
       "      <th>Oil</th>\n",
       "      <th>Other</th>\n",
       "      <th>Sand/Mud/Dirt</th>\n",
       "      <th>Snow/Slush</th>\n",
       "      <th>Standing Water</th>\n",
       "      <th>Wet</th>\n",
       "    </tr>\n",
       "  </thead>\n",
       "  <tbody>\n",
       "    <tr>\n",
       "      <th>1</th>\n",
       "      <td>79287</td>\n",
       "      <td>805</td>\n",
       "      <td>27</td>\n",
       "      <td>59</td>\n",
       "      <td>35</td>\n",
       "      <td>672</td>\n",
       "      <td>69</td>\n",
       "      <td>29554</td>\n",
       "    </tr>\n",
       "    <tr>\n",
       "      <th>2</th>\n",
       "      <td>39002</td>\n",
       "      <td>259</td>\n",
       "      <td>20</td>\n",
       "      <td>39</td>\n",
       "      <td>21</td>\n",
       "      <td>156</td>\n",
       "      <td>26</td>\n",
       "      <td>15153</td>\n",
       "    </tr>\n",
       "  </tbody>\n",
       "</table>\n",
       "</div>"
      ],
      "text/plain": [
       "ROADCOND    Dry  Ice  Oil  Other  Sand/Mud/Dirt  Snow/Slush  Standing Water  \\\n",
       "1         79287  805   27     59             35         672              69   \n",
       "2         39002  259   20     39             21         156              26   \n",
       "\n",
       "ROADCOND    Wet  \n",
       "1         29554  \n",
       "2         15153  "
      ]
     },
     "execution_count": 402,
     "metadata": {},
     "output_type": "execute_result"
    }
   ],
   "source": [
    "table = pd.crosstab(df['SEVERITYCODE'], df['ROADCOND'])\n",
    "table.index.name = None\n",
    "table"
   ]
  },
  {
   "cell_type": "code",
   "execution_count": 403,
   "metadata": {},
   "outputs": [
    {
     "name": "stdout",
     "output_type": "stream",
     "text": [
      "stat=132.27, degrees of freedom=7, p=2.1082890184547544e-25\n"
     ]
    },
    {
     "data": {
      "text/html": [
       "<div>\n",
       "<style scoped>\n",
       "    .dataframe tbody tr th:only-of-type {\n",
       "        vertical-align: middle;\n",
       "    }\n",
       "\n",
       "    .dataframe tbody tr th {\n",
       "        vertical-align: top;\n",
       "    }\n",
       "\n",
       "    .dataframe thead th {\n",
       "        text-align: right;\n",
       "    }\n",
       "</style>\n",
       "<table border=\"1\" class=\"dataframe\">\n",
       "  <thead>\n",
       "    <tr style=\"text-align: right;\">\n",
       "      <th>ROADCOND</th>\n",
       "      <th>Dry</th>\n",
       "      <th>Ice</th>\n",
       "      <th>Oil</th>\n",
       "      <th>Other</th>\n",
       "      <th>Sand/Mud/Dirt</th>\n",
       "      <th>Snow/Slush</th>\n",
       "      <th>Standing Water</th>\n",
       "      <th>Wet</th>\n",
       "    </tr>\n",
       "  </thead>\n",
       "  <tbody>\n",
       "    <tr>\n",
       "      <th>1</th>\n",
       "      <td>79135.27</td>\n",
       "      <td>711.82</td>\n",
       "      <td>31.44</td>\n",
       "      <td>65.56</td>\n",
       "      <td>37.46</td>\n",
       "      <td>553.93</td>\n",
       "      <td>63.55</td>\n",
       "      <td>29908.96</td>\n",
       "    </tr>\n",
       "    <tr>\n",
       "      <th>2</th>\n",
       "      <td>39153.73</td>\n",
       "      <td>352.18</td>\n",
       "      <td>15.56</td>\n",
       "      <td>32.44</td>\n",
       "      <td>18.54</td>\n",
       "      <td>274.07</td>\n",
       "      <td>31.45</td>\n",
       "      <td>14798.04</td>\n",
       "    </tr>\n",
       "  </tbody>\n",
       "</table>\n",
       "</div>"
      ],
      "text/plain": [
       "ROADCOND       Dry     Ice    Oil  Other  Sand/Mud/Dirt  Snow/Slush  \\\n",
       "1         79135.27  711.82  31.44  65.56          37.46      553.93   \n",
       "2         39153.73  352.18  15.56  32.44          18.54      274.07   \n",
       "\n",
       "ROADCOND  Standing Water       Wet  \n",
       "1                  63.55  29908.96  \n",
       "2                  31.45  14798.04  "
      ]
     },
     "execution_count": 403,
     "metadata": {},
     "output_type": "execute_result"
    }
   ],
   "source": [
    "stat, p, dof, expected = chi2_contingency(table)\n",
    "print('stat={}, degrees of freedom={}, p={}'.format(round(stat,2), dof, p))\n",
    "expected = pd.DataFrame(expected.round(2), columns=table.columns, index=[1,2])\n",
    "expected"
   ]
  },
  {
   "cell_type": "code",
   "execution_count": 404,
   "metadata": {},
   "outputs": [
    {
     "data": {
      "text/html": [
       "<div>\n",
       "<style scoped>\n",
       "    .dataframe tbody tr th:only-of-type {\n",
       "        vertical-align: middle;\n",
       "    }\n",
       "\n",
       "    .dataframe tbody tr th {\n",
       "        vertical-align: top;\n",
       "    }\n",
       "\n",
       "    .dataframe thead th {\n",
       "        text-align: right;\n",
       "    }\n",
       "</style>\n",
       "<table border=\"1\" class=\"dataframe\">\n",
       "  <thead>\n",
       "    <tr style=\"text-align: right;\">\n",
       "      <th>ROADCOND</th>\n",
       "      <th>Dry</th>\n",
       "      <th>Ice</th>\n",
       "      <th>Oil</th>\n",
       "      <th>Other</th>\n",
       "      <th>Sand/Mud/Dirt</th>\n",
       "      <th>Snow/Slush</th>\n",
       "      <th>Standing Water</th>\n",
       "      <th>Wet</th>\n",
       "    </tr>\n",
       "  </thead>\n",
       "  <tbody>\n",
       "    <tr>\n",
       "      <th>1</th>\n",
       "      <td>151.73</td>\n",
       "      <td>93.18</td>\n",
       "      <td>-4.44</td>\n",
       "      <td>-6.56</td>\n",
       "      <td>-2.46</td>\n",
       "      <td>118.07</td>\n",
       "      <td>5.45</td>\n",
       "      <td>-354.96</td>\n",
       "    </tr>\n",
       "    <tr>\n",
       "      <th>2</th>\n",
       "      <td>-151.73</td>\n",
       "      <td>-93.18</td>\n",
       "      <td>4.44</td>\n",
       "      <td>6.56</td>\n",
       "      <td>2.46</td>\n",
       "      <td>-118.07</td>\n",
       "      <td>-5.45</td>\n",
       "      <td>354.96</td>\n",
       "    </tr>\n",
       "  </tbody>\n",
       "</table>\n",
       "</div>"
      ],
      "text/plain": [
       "ROADCOND     Dry    Ice   Oil  Other  Sand/Mud/Dirt  Snow/Slush  \\\n",
       "1         151.73  93.18 -4.44  -6.56          -2.46      118.07   \n",
       "2        -151.73 -93.18  4.44   6.56           2.46     -118.07   \n",
       "\n",
       "ROADCOND  Standing Water     Wet  \n",
       "1                   5.45 -354.96  \n",
       "2                  -5.45  354.96  "
      ]
     },
     "execution_count": 404,
     "metadata": {},
     "output_type": "execute_result"
    }
   ],
   "source": [
    "table.index.name=None\n",
    "table-expected"
   ]
  },
  {
   "cell_type": "code",
   "execution_count": 405,
   "metadata": {},
   "outputs": [
    {
     "data": {
      "text/plain": [
       "['Oil', 'Other', 'Sand/Mud/Dirt', 'Wet']"
      ]
     },
     "execution_count": 405,
     "metadata": {},
     "output_type": "execute_result"
    }
   ],
   "source": [
    "# the categorical values where there are more injuries than expected\n",
    "\n",
    "diff_df = (table-expected).iloc[1][(table-expected).iloc[1]>=0].index.tolist()\n",
    "diff_df"
   ]
  },
  {
   "cell_type": "code",
   "execution_count": 406,
   "metadata": {},
   "outputs": [],
   "source": [
    "# Define a new categorical value based on the results from the analysis in the above cell.\n",
    "df['BADROAD'] = df['ROADCOND'].apply(lambda x: 1 if (x in diff_df) else 0)"
   ]
  },
  {
   "cell_type": "markdown",
   "metadata": {},
   "source": [
    "## SEVERITYCODE vs LIGHTCOND"
   ]
  },
  {
   "cell_type": "code",
   "execution_count": 409,
   "metadata": {},
   "outputs": [
    {
     "data": {
      "text/html": [
       "<div>\n",
       "<style scoped>\n",
       "    .dataframe tbody tr th:only-of-type {\n",
       "        vertical-align: middle;\n",
       "    }\n",
       "\n",
       "    .dataframe tbody tr th {\n",
       "        vertical-align: top;\n",
       "    }\n",
       "\n",
       "    .dataframe thead th {\n",
       "        text-align: right;\n",
       "    }\n",
       "</style>\n",
       "<table border=\"1\" class=\"dataframe\">\n",
       "  <thead>\n",
       "    <tr style=\"text-align: right;\">\n",
       "      <th>LIGHTCOND</th>\n",
       "      <th>Dark - No Street Lights</th>\n",
       "      <th>Dark - Street Lights Off</th>\n",
       "      <th>Dark - Street Lights On</th>\n",
       "      <th>Dark - Unknown Lighting</th>\n",
       "      <th>Dawn</th>\n",
       "      <th>Daylight</th>\n",
       "      <th>Dusk</th>\n",
       "      <th>Other</th>\n",
       "    </tr>\n",
       "  </thead>\n",
       "  <tbody>\n",
       "    <tr>\n",
       "      <th>1</th>\n",
       "      <td>1006</td>\n",
       "      <td>764</td>\n",
       "      <td>31293</td>\n",
       "      <td>5</td>\n",
       "      <td>1525</td>\n",
       "      <td>72166</td>\n",
       "      <td>3635</td>\n",
       "      <td>114</td>\n",
       "    </tr>\n",
       "    <tr>\n",
       "      <th>2</th>\n",
       "      <td>309</td>\n",
       "      <td>298</td>\n",
       "      <td>13962</td>\n",
       "      <td>4</td>\n",
       "      <td>793</td>\n",
       "      <td>37404</td>\n",
       "      <td>1870</td>\n",
       "      <td>36</td>\n",
       "    </tr>\n",
       "  </tbody>\n",
       "</table>\n",
       "</div>"
      ],
      "text/plain": [
       "LIGHTCOND  Dark - No Street Lights  Dark - Street Lights Off  \\\n",
       "1                             1006                       764   \n",
       "2                              309                       298   \n",
       "\n",
       "LIGHTCOND  Dark - Street Lights On  Dark - Unknown Lighting  Dawn  Daylight  \\\n",
       "1                            31293                        5  1525     72166   \n",
       "2                            13962                        4   793     37404   \n",
       "\n",
       "LIGHTCOND  Dusk  Other  \n",
       "1          3635    114  \n",
       "2          1870     36  "
      ]
     },
     "execution_count": 409,
     "metadata": {},
     "output_type": "execute_result"
    }
   ],
   "source": [
    "table = pd.crosstab(df['SEVERITYCODE'], df['LIGHTCOND'])\n",
    "table.index.name = None\n",
    "table"
   ]
  },
  {
   "cell_type": "code",
   "execution_count": 410,
   "metadata": {},
   "outputs": [
    {
     "name": "stdout",
     "output_type": "stream",
     "text": [
      "stat=232.74, degrees of freedom=7, p=1.29677344313145e-46\n"
     ]
    },
    {
     "data": {
      "text/html": [
       "<div>\n",
       "<style scoped>\n",
       "    .dataframe tbody tr th:only-of-type {\n",
       "        vertical-align: middle;\n",
       "    }\n",
       "\n",
       "    .dataframe tbody tr th {\n",
       "        vertical-align: top;\n",
       "    }\n",
       "\n",
       "    .dataframe thead th {\n",
       "        text-align: right;\n",
       "    }\n",
       "</style>\n",
       "<table border=\"1\" class=\"dataframe\">\n",
       "  <thead>\n",
       "    <tr style=\"text-align: right;\">\n",
       "      <th>LIGHTCOND</th>\n",
       "      <th>Dark - No Street Lights</th>\n",
       "      <th>Dark - Street Lights Off</th>\n",
       "      <th>Dark - Street Lights On</th>\n",
       "      <th>Dark - Unknown Lighting</th>\n",
       "      <th>Dawn</th>\n",
       "      <th>Daylight</th>\n",
       "      <th>Dusk</th>\n",
       "      <th>Other</th>\n",
       "    </tr>\n",
       "  </thead>\n",
       "  <tbody>\n",
       "    <tr>\n",
       "      <th>1</th>\n",
       "      <td>879.73</td>\n",
       "      <td>710.48</td>\n",
       "      <td>30275.57</td>\n",
       "      <td>6.02</td>\n",
       "      <td>1550.74</td>\n",
       "      <td>73302.27</td>\n",
       "      <td>3682.84</td>\n",
       "      <td>100.35</td>\n",
       "    </tr>\n",
       "    <tr>\n",
       "      <th>2</th>\n",
       "      <td>435.27</td>\n",
       "      <td>351.52</td>\n",
       "      <td>14979.43</td>\n",
       "      <td>2.98</td>\n",
       "      <td>767.26</td>\n",
       "      <td>36267.73</td>\n",
       "      <td>1822.16</td>\n",
       "      <td>49.65</td>\n",
       "    </tr>\n",
       "  </tbody>\n",
       "</table>\n",
       "</div>"
      ],
      "text/plain": [
       "LIGHTCOND  Dark - No Street Lights  Dark - Street Lights Off  \\\n",
       "1                           879.73                    710.48   \n",
       "2                           435.27                    351.52   \n",
       "\n",
       "LIGHTCOND  Dark - Street Lights On  Dark - Unknown Lighting     Dawn  \\\n",
       "1                         30275.57                     6.02  1550.74   \n",
       "2                         14979.43                     2.98   767.26   \n",
       "\n",
       "LIGHTCOND  Daylight     Dusk   Other  \n",
       "1          73302.27  3682.84  100.35  \n",
       "2          36267.73  1822.16   49.65  "
      ]
     },
     "execution_count": 410,
     "metadata": {},
     "output_type": "execute_result"
    }
   ],
   "source": [
    "stat, p, dof, expected = chi2_contingency(table)\n",
    "print('stat={}, degrees of freedom={}, p={}'.format(round(stat,2), dof, p))\n",
    "expected = pd.DataFrame(expected.round(2), columns=table.columns, index=[1,2])\n",
    "expected"
   ]
  },
  {
   "cell_type": "code",
   "execution_count": 411,
   "metadata": {},
   "outputs": [
    {
     "data": {
      "text/html": [
       "<div>\n",
       "<style scoped>\n",
       "    .dataframe tbody tr th:only-of-type {\n",
       "        vertical-align: middle;\n",
       "    }\n",
       "\n",
       "    .dataframe tbody tr th {\n",
       "        vertical-align: top;\n",
       "    }\n",
       "\n",
       "    .dataframe thead th {\n",
       "        text-align: right;\n",
       "    }\n",
       "</style>\n",
       "<table border=\"1\" class=\"dataframe\">\n",
       "  <thead>\n",
       "    <tr style=\"text-align: right;\">\n",
       "      <th>LIGHTCOND</th>\n",
       "      <th>Dark - No Street Lights</th>\n",
       "      <th>Dark - Street Lights Off</th>\n",
       "      <th>Dark - Street Lights On</th>\n",
       "      <th>Dark - Unknown Lighting</th>\n",
       "      <th>Dawn</th>\n",
       "      <th>Daylight</th>\n",
       "      <th>Dusk</th>\n",
       "      <th>Other</th>\n",
       "    </tr>\n",
       "  </thead>\n",
       "  <tbody>\n",
       "    <tr>\n",
       "      <th>1</th>\n",
       "      <td>126.27</td>\n",
       "      <td>53.52</td>\n",
       "      <td>1017.43</td>\n",
       "      <td>-1.02</td>\n",
       "      <td>-25.74</td>\n",
       "      <td>-1136.27</td>\n",
       "      <td>-47.84</td>\n",
       "      <td>13.65</td>\n",
       "    </tr>\n",
       "    <tr>\n",
       "      <th>2</th>\n",
       "      <td>-126.27</td>\n",
       "      <td>-53.52</td>\n",
       "      <td>-1017.43</td>\n",
       "      <td>1.02</td>\n",
       "      <td>25.74</td>\n",
       "      <td>1136.27</td>\n",
       "      <td>47.84</td>\n",
       "      <td>-13.65</td>\n",
       "    </tr>\n",
       "  </tbody>\n",
       "</table>\n",
       "</div>"
      ],
      "text/plain": [
       "LIGHTCOND  Dark - No Street Lights  Dark - Street Lights Off  \\\n",
       "1                           126.27                     53.52   \n",
       "2                          -126.27                    -53.52   \n",
       "\n",
       "LIGHTCOND  Dark - Street Lights On  Dark - Unknown Lighting   Dawn  Daylight  \\\n",
       "1                          1017.43                    -1.02 -25.74  -1136.27   \n",
       "2                         -1017.43                     1.02  25.74   1136.27   \n",
       "\n",
       "LIGHTCOND   Dusk  Other  \n",
       "1         -47.84  13.65  \n",
       "2          47.84 -13.65  "
      ]
     },
     "execution_count": 411,
     "metadata": {},
     "output_type": "execute_result"
    }
   ],
   "source": [
    "table.index.name=None\n",
    "table-expected"
   ]
  },
  {
   "cell_type": "code",
   "execution_count": 412,
   "metadata": {},
   "outputs": [
    {
     "data": {
      "text/plain": [
       "['Dark - Unknown Lighting', 'Dawn', 'Daylight', 'Dusk']"
      ]
     },
     "execution_count": 412,
     "metadata": {},
     "output_type": "execute_result"
    }
   ],
   "source": [
    "# the categorical values where there are more injuries than expected\n",
    "diff_df = (table-expected).iloc[1][(table-expected).iloc[1]>=0].index.tolist()\n",
    "diff_df"
   ]
  },
  {
   "cell_type": "markdown",
   "metadata": {},
   "source": [
    "## Create a new variable DAYOFWEEK and explore its relationship with SEVERITYCODE similar to the analyses above"
   ]
  },
  {
   "cell_type": "code",
   "execution_count": 417,
   "metadata": {},
   "outputs": [
    {
     "name": "stdout",
     "output_type": "stream",
     "text": [
      "stat=74.77, degrees of freedom=6, p=4.271171033439675e-14\n"
     ]
    },
    {
     "data": {
      "text/plain": [
       "[1, 2, 3, 4]"
      ]
     },
     "execution_count": 417,
     "metadata": {},
     "output_type": "execute_result"
    }
   ],
   "source": [
    "df['DAYOFWEEK'] = df['INCDTTM'].dt.dayofweek+1\n",
    "\n",
    "(df.groupby(['SEVERITYCODE','DAYOFWEEK'])['SEVERITYCODE'].count().unstack()\n",
    " / df.groupby('DAYOFWEEK')['DAYOFWEEK'].count()\n",
    ").round(2)\n",
    "\n",
    "table = pd.crosstab(df['SEVERITYCODE'], df['DAYOFWEEK'])\n",
    "table.index.name = None\n",
    "table\n",
    "\n",
    "\n",
    "stat, p, dof, expected = chi2_contingency(table)\n",
    "print('stat={}, degrees of freedom={}, p={}'.format(round(stat,2), dof, p))\n",
    "expected = pd.DataFrame(expected.round(2), columns=table.columns, index=[1,2])\n",
    "expected\n",
    "\n",
    "# the days where we see more injuries than expected\n",
    "diff_df = (table-expected).iloc[1][(table-expected).iloc[1]>=0].index.tolist()\n",
    "diff_df"
   ]
  },
  {
   "cell_type": "code",
   "execution_count": 419,
   "metadata": {},
   "outputs": [],
   "source": [
    "# based on the result above, we define a new variable WEEKDAY that is True if Mon, Tue, Wed or Thu.\n",
    "df['WEEKDAY'] = df['DAYOFWEEK'].apply(lambda x: 1 if (x in diff_df) else 0)"
   ]
  },
  {
   "cell_type": "markdown",
   "metadata": {},
   "source": [
    "## Create a new variable MONTH and explore its relationship with SEVERITYCODE similar to the analyses above"
   ]
  },
  {
   "cell_type": "code",
   "execution_count": 415,
   "metadata": {},
   "outputs": [
    {
     "name": "stdout",
     "output_type": "stream",
     "text": [
      "Pearson correlation between SEVERITYCODE and MONTH: 0.845\n",
      "stat=92.29, degrees of freedom=11, p=5.9220218201255965e-15\n"
     ]
    },
    {
     "data": {
      "text/plain": [
       "[5, 7, 8, 9, 10]"
      ]
     },
     "execution_count": 415,
     "metadata": {},
     "output_type": "execute_result"
    }
   ],
   "source": [
    "df['MONTH'] = df['INCDTTM'].dt.month\n",
    "\n",
    "print('Pearson correlation between SEVERITYCODE and MONTH:', \n",
    "      df.groupby(['SEVERITYCODE','MONTH'])['SEVERITYCODE'].count().unstack().T\n",
    "      .corr(method='pearson').iloc[0,1].round(3)\n",
    "     )\n",
    "\n",
    "(df.groupby(['SEVERITYCODE','MONTH'])['SEVERITYCODE'].count().unstack()\n",
    " / df.groupby('MONTH')['MONTH'].count()\n",
    ").round(2)\n",
    "\n",
    "\n",
    "table = pd.crosstab(df['SEVERITYCODE'], df['MONTH'])\n",
    "table.index.name = None\n",
    "table\n",
    "\n",
    "\n",
    "stat, p, dof, expected = chi2_contingency(table)\n",
    "print('stat={}, degrees of freedom={}, p={}'.format(round(stat,2), dof, p))\n",
    "expected = pd.DataFrame(expected.round(2), columns=table.columns, index=[1,2])\n",
    "expected\n",
    "\n",
    "diff_df = (table-expected).iloc[1][(table-expected).iloc[1]>=0].index.tolist()\n",
    "diff_df"
   ]
  },
  {
   "cell_type": "code",
   "execution_count": 416,
   "metadata": {},
   "outputs": [],
   "source": [
    "# define a new variable based on above analysis which is True if it is May, Jul, Aug, Sep or Oct and False otherwise\n",
    "df['SUMMER'] = df['MONTH'].apply(lambda x: 1 if (x in diff_df) else 0)"
   ]
  },
  {
   "cell_type": "markdown",
   "metadata": {},
   "source": [
    "## Create a new variable HOUR and explore its relationship with SEVERITYCODE similar to the analyses above"
   ]
  },
  {
   "cell_type": "code",
   "execution_count": 420,
   "metadata": {},
   "outputs": [
    {
     "name": "stdout",
     "output_type": "stream",
     "text": [
      "Pearson correlation between SEVERITYCODE and HOUR: 0.981\n",
      "stat=621.2, degrees of freedom=23, p=1.6433260083835907e-116\n"
     ]
    },
    {
     "data": {
      "text/plain": [
       "[6, 7, 8, 14, 15, 16, 17, 18, 19]"
      ]
     },
     "execution_count": 420,
     "metadata": {},
     "output_type": "execute_result"
    }
   ],
   "source": [
    "df['HOUR'] = df['INCDTTM'].dt.hour\n",
    "\n",
    "print('Pearson correlation between SEVERITYCODE and HOUR:', \n",
    "      df.groupby(['SEVERITYCODE','HOUR'])['SEVERITYCODE'].count().unstack().T\n",
    "      .corr(method='pearson').iloc[0,1].round(3)\n",
    "     )\n",
    "\n",
    "(df.groupby(['SEVERITYCODE','HOUR'])['SEVERITYCODE'].count().unstack()\n",
    " / df.groupby('HOUR')['HOUR'].count()\n",
    ").round(2)\n",
    "\n",
    "\n",
    "\n",
    "table = pd.crosstab(df['SEVERITYCODE'], df['HOUR'])\n",
    "table.index.name = None\n",
    "table\n",
    "\n",
    "\n",
    "stat, p, dof, expected = chi2_contingency(table)\n",
    "print('stat={}, degrees of freedom={}, p={}'.format(round(stat,2), dof, p))\n",
    "expected = pd.DataFrame(expected.round(2), columns=table.columns, index=[1,2])\n",
    "expected\n",
    "\n",
    "diff_df = (table-expected).iloc[1][(table-expected).iloc[1]>=0].index.tolist()\n",
    "diff_df"
   ]
  },
  {
   "cell_type": "code",
   "execution_count": 421,
   "metadata": {},
   "outputs": [
    {
     "name": "stdout",
     "output_type": "stream",
     "text": [
      "stat=396.06, degrees of freedom=1, p=3.967447062971418e-88\n"
     ]
    },
    {
     "data": {
      "text/html": [
       "<div>\n",
       "<style scoped>\n",
       "    .dataframe tbody tr th:only-of-type {\n",
       "        vertical-align: middle;\n",
       "    }\n",
       "\n",
       "    .dataframe tbody tr th {\n",
       "        vertical-align: top;\n",
       "    }\n",
       "\n",
       "    .dataframe thead th {\n",
       "        text-align: right;\n",
       "    }\n",
       "</style>\n",
       "<table border=\"1\" class=\"dataframe\">\n",
       "  <thead>\n",
       "    <tr style=\"text-align: right;\">\n",
       "      <th>RUSHHOUR</th>\n",
       "      <th>0</th>\n",
       "      <th>1</th>\n",
       "    </tr>\n",
       "  </thead>\n",
       "  <tbody>\n",
       "    <tr>\n",
       "      <th>1</th>\n",
       "      <td>1890.04</td>\n",
       "      <td>-1890.04</td>\n",
       "    </tr>\n",
       "    <tr>\n",
       "      <th>2</th>\n",
       "      <td>-1890.04</td>\n",
       "      <td>1890.04</td>\n",
       "    </tr>\n",
       "  </tbody>\n",
       "</table>\n",
       "</div>"
      ],
      "text/plain": [
       "RUSHHOUR        0        1\n",
       "1         1890.04 -1890.04\n",
       "2        -1890.04  1890.04"
      ]
     },
     "execution_count": 421,
     "metadata": {},
     "output_type": "execute_result"
    }
   ],
   "source": [
    "# we see there is a marked increase in injuries during rush hours: 6, 7, 8, 14, 15, 16, 17, 18, 19\n",
    "# Define a new variable RUSHHOUR\n",
    "df['RUSHHOUR'] = df['HOUR'].apply(lambda x: 1 if x in diff_df else 0)\n",
    "\n",
    "table = pd.crosstab(df['SEVERITYCODE'], df['RUSHHOUR'])\n",
    "table.index.name = None\n",
    "table\n",
    "\n",
    "\n",
    "stat, p, dof, expected = chi2_contingency(table)\n",
    "print('stat={}, degrees of freedom={}, p={}'.format(round(stat,2), dof, p))\n",
    "expected = pd.DataFrame(expected.round(2), columns=table.columns, index=[1,2])\n",
    "expected\n",
    "\n",
    "(table-expected)"
   ]
  },
  {
   "cell_type": "code",
   "execution_count": 438,
   "metadata": {},
   "outputs": [],
   "source": [
    "df['DAYOFWEEK'] = df['DAYOFWEEK'].astype(str)\n",
    "df['MONTH'] = df['MONTH'].astype(str)\n",
    "df['HOUR'] = df['HOUR'].astype(str)"
   ]
  },
  {
   "cell_type": "code",
   "execution_count": 439,
   "metadata": {},
   "outputs": [
    {
     "data": {
      "text/plain": [
       "array(['SEVERITYCODE', 'X', 'Y', 'ADDRTYPE', 'COLLISIONTYPE',\n",
       "       'PERSONCOUNT', 'PEDCOUNT', 'PEDCYLCOUNT', 'VEHCOUNT', 'INCDTTM',\n",
       "       'JUNCTIONTYPE', 'INATTENTIONIND', 'UNDERINFL', 'WEATHER',\n",
       "       'ROADCOND', 'LIGHTCOND', 'PEDROWNOTGRNT', 'SPEEDING', 'COLTYPEDIV',\n",
       "       'DAYOFWEEK', 'MONTH', 'HOUR', 'RUSHHOUR', 'INTERSECTION',\n",
       "       'BADWEATHER', 'BADROAD', 'SUMMER', 'WEEKDAY', 'RUSHHOURWEEKDAY'],\n",
       "      dtype=object)"
      ]
     },
     "execution_count": 439,
     "metadata": {},
     "output_type": "execute_result"
    }
   ],
   "source": [
    "df.columns.values"
   ]
  },
  {
   "cell_type": "markdown",
   "metadata": {},
   "source": [
    "## Feature selection\n",
    "\n",
    "We select the newly defined features contructed from the categorical variables and drop the old features."
   ]
  },
  {
   "cell_type": "code",
   "execution_count": 494,
   "metadata": {},
   "outputs": [],
   "source": [
    "to_dummies = ['ADDRTYPE',    #we have INTERSECTION\n",
    "              'COLLISIONTYPE',  # we have COLTYPEDIV\n",
    "              'JUNCTIONTYPE', #we have INTERSECTION\n",
    "              'WEATHER', # we have BADWEATHER\n",
    "              'ROADCOND', # we have BADROAD\n",
    "              'LIGHTCOND', # drop\n",
    "              'DAYOFWEEK', 'MONTH', 'HOUR'\n",
    "             ]\n",
    "\n",
    "df['RUSHHOURWEEKDAY'] = df['RUSHHOUR'] * df['WEEKDAY']\n",
    "\n",
    "as_is = ['SEVERITYCODE', \n",
    "         #'X', 'Y', \n",
    "         'PERSONCOUNT', 'PEDCOUNT', 'PEDCYLCOUNT', 'VEHCOUNT',\n",
    "         'INATTENTIONIND', 'UNDERINFL', 'PEDROWNOTGRNT', 'SPEEDING', \n",
    "         'COLTYPEDIV', 'RUSHHOUR', 'INTERSECTION','BADWEATHER', 'BADROAD', 'SUMMER', 'WEEKDAY', 'RUSHHOURWEEKDAY'\n",
    "        ]\n",
    "\n",
    "#df1 = pd.merge(df[as_is], pd.get_dummies(df[to_dummies]), right_index=True, left_index=True)\n",
    "df1 = df[as_is].copy()"
   ]
  },
  {
   "cell_type": "markdown",
   "metadata": {},
   "source": [
    "We split the samples into two to train our ML models and test it later."
   ]
  },
  {
   "cell_type": "code",
   "execution_count": 495,
   "metadata": {},
   "outputs": [],
   "source": [
    "target = 'SEVERITYCODE'\n",
    "features = df1.columns[df1.columns!=target]\n",
    "\n",
    "from sklearn.model_selection import train_test_split\n",
    "X, X_test, y, y_test = train_test_split(df1[features], df1[target], test_size=0.2, random_state=0)"
   ]
  },
  {
   "cell_type": "markdown",
   "metadata": {},
   "source": [
    "We further split the data to train the model and validate our results to learn more about the structure of the data."
   ]
  },
  {
   "cell_type": "code",
   "execution_count": 160,
   "metadata": {},
   "outputs": [
    {
     "data": {
      "text/plain": [
       "(66332, 66332)"
      ]
     },
     "execution_count": 160,
     "metadata": {},
     "output_type": "execute_result"
    }
   ],
   "source": [
    "X_train, X_valid, y_train, y_valid = train_test_split(X, y, random_state=0)\n",
    "\n",
    "#from imblearn.over_sampling import SMOTE\n",
    "#os = SMOTE()\n",
    "#X_train, y_train = os.fit_sample(X_train, y_train)\n",
    "\n",
    "len(y_train[y_train==1]), len(y_train[y_train==2])"
   ]
  },
  {
   "cell_type": "code",
   "execution_count": 485,
   "metadata": {},
   "outputs": [
    {
     "data": {
      "text/plain": [
       "(99110, 16)"
      ]
     },
     "execution_count": 485,
     "metadata": {},
     "output_type": "execute_result"
    }
   ],
   "source": [
    "X_train.shape"
   ]
  },
  {
   "cell_type": "markdown",
   "metadata": {},
   "source": [
    "## Dummy classifier"
   ]
  },
  {
   "cell_type": "code",
   "execution_count": 518,
   "metadata": {},
   "outputs": [
    {
     "data": {
      "text/plain": [
       "(0.668, 0.5)"
      ]
     },
     "execution_count": 518,
     "metadata": {},
     "output_type": "execute_result"
    }
   ],
   "source": [
    "from sklearn.dummy import DummyClassifier\n",
    "from sklearn.metrics import roc_auc_score\n",
    "\n",
    "dummy_clf = DummyClassifier(strategy='most_frequent').fit(X_train, y_train)\n",
    "dummy_clf.score(X_test, y_test).round(3), roc_auc_score(y_test, dummy_clf.predict_proba(X_test)[:,1])"
   ]
  },
  {
   "cell_type": "markdown",
   "metadata": {},
   "source": [
    "## Logistic Regression"
   ]
  },
  {
   "cell_type": "code",
   "execution_count": 487,
   "metadata": {},
   "outputs": [
    {
     "name": "stdout",
     "output_type": "stream",
     "text": [
      "The accuracy score:  0.7280679848956085\n"
     ]
    }
   ],
   "source": [
    "from sklearn.preprocessing import StandardScaler\n",
    "scaler = StandardScaler()\n",
    "\n",
    "from sklearn.linear_model import LogisticRegression\n",
    "clf = LogisticRegression()\n",
    "\n",
    "from imblearn.over_sampling import SMOTE\n",
    "os = SMOTE()\n",
    "    \n",
    "from imblearn.pipeline import Pipeline\n",
    "estimators = [('scaler', scaler), \n",
    "              ('os', os), \n",
    "              ('clf', clf)]\n",
    "pipeline = Pipeline(steps=estimators)\n",
    "    \n",
    "from sklearn.model_selection import cross_val_score\n",
    "scores = cross_val_score(pipeline, X, y, cv=3, scoring = 'accuracy', n_jobs=-1)\n",
    "print('The accuracy score: ', np.mean(scores))"
   ]
  },
  {
   "cell_type": "code",
   "execution_count": 537,
   "metadata": {},
   "outputs": [
    {
     "data": {
      "text/plain": [
       "(0.728, 0.753)"
      ]
     },
     "execution_count": 537,
     "metadata": {},
     "output_type": "execute_result"
    }
   ],
   "source": [
    "from sklearn.linear_model import LogisticRegression\n",
    "\n",
    "clf = LogisticRegression(C=1, solver='liblinear').fit(X_train, y_train)\n",
    "clf.score(X_valid, y_valid).round(3), roc_auc_score(y_valid, clf.predict_proba(X_valid)[:,1]).round(3)"
   ]
  },
  {
   "cell_type": "markdown",
   "metadata": {},
   "source": [
    "Used cross validation to obtain accuracy scores (used the samples split from any data used in training)."
   ]
  },
  {
   "cell_type": "code",
   "execution_count": 538,
   "metadata": {},
   "outputs": [
    {
     "name": "stdout",
     "output_type": "stream",
     "text": [
      "The accuracy score:  0.7278203377450202\n"
     ]
    }
   ],
   "source": [
    "from sklearn.model_selection import cross_val_score\n",
    "scores = cross_val_score(clf, X_test, y_test, cv=3, scoring = 'accuracy', n_jobs=-1)\n",
    "print('The accuracy score: ', np.mean(scores))"
   ]
  },
  {
   "cell_type": "markdown",
   "metadata": {},
   "source": [
    "## Gradient Boosting Classifier"
   ]
  },
  {
   "cell_type": "markdown",
   "metadata": {},
   "source": [
    "A benchmark outcome:"
   ]
  },
  {
   "cell_type": "code",
   "execution_count": 530,
   "metadata": {},
   "outputs": [
    {
     "data": {
      "text/plain": [
       "(0.735, 0.766)"
      ]
     },
     "execution_count": 530,
     "metadata": {},
     "output_type": "execute_result"
    }
   ],
   "source": [
    "gb_clf = GradientBoostingClassifier(learning_rate=0.1, max_depth=2, max_features=15).fit(X_train, y_train)\n",
    "gb_clf.score(X_valid, y_valid).round(3), roc_auc_score(y_valid, gb_clf.predict_proba(X_valid)[:,1]).round(3)"
   ]
  },
  {
   "cell_type": "markdown",
   "metadata": {},
   "source": [
    "We used GridSearch to search for the optimal parameter values."
   ]
  },
  {
   "cell_type": "code",
   "execution_count": 524,
   "metadata": {},
   "outputs": [
    {
     "name": "stdout",
     "output_type": "stream",
     "text": [
      "Train set accuracy:  0.7360004035919685\n",
      "Test set accuracy:  0.7346914066047159\n",
      "Grid best parameter (max. accu):  {'learning_rate': 0.4, 'max_depth': 3, 'max_features': 14}\n",
      "Grid best parameter (max. accu):  GradientBoostingClassifier(learning_rate=0.4, max_features=14)\n"
     ]
    }
   ],
   "source": [
    "from sklearn.ensemble import GradientBoostingClassifier\n",
    "clf = GradientBoostingClassifier(learning_rate=0.4).fit(X_train, y_train)\n",
    "\n",
    "grid_values = {'learning_rate':np.linspace(0.1,0.4,4),\n",
    "               'max_features': [14,15], 'max_depth':range(2,5)}#, 'min_samples_split':range(200,1001,400)}\n",
    "# {'learning_rate':np.linspace(0.3,0.6,4)}\n",
    "\n",
    "from sklearn.model_selection import GridSearchCV\n",
    "grid_clf = GridSearchCV(clf, param_grid = grid_values, scoring = 'accuracy', n_jobs=-1).fit(X_train, y_train)\n",
    "\n",
    "print('Train set accuracy: ', grid_clf.score(X_train, y_train))\n",
    "print('Test set accuracy: ', grid_clf.score(X_valid, y_valid))\n",
    "print('Grid best parameter (max. accu): ', grid_clf.best_params_)\n",
    "print('Grid best parameter (max. accu): ', grid_clf.best_estimator_)"
   ]
  },
  {
   "cell_type": "markdown",
   "metadata": {},
   "source": [
    "Used cross validation to obtain accuracy scores (used the samples split from any data used in training)."
   ]
  },
  {
   "cell_type": "code",
   "execution_count": 543,
   "metadata": {},
   "outputs": [
    {
     "name": "stdout",
     "output_type": "stream",
     "text": [
      "The accuracy score:  0.735024349642285\n"
     ]
    }
   ],
   "source": [
    "from sklearn.ensemble import GradientBoostingClassifier\n",
    "clf = GradientBoostingClassifier(learning_rate=0.1, max_depth=2, max_features=15)\n",
    "#clf.score(X_valid, y_valid), roc_auc_score(y_valid, gb_clf.predict_proba(X_valid)[:,1])\n",
    "\n",
    "# (0.7362956684929018, 0.7660217425505267)\n",
    "\n",
    "scores = cross_val_score(clf, X_test, y_test, cv=3, scoring = 'accuracy', n_jobs=-1)\n",
    "print('The accuracy score: ', np.mean(scores))"
   ]
  },
  {
   "cell_type": "markdown",
   "metadata": {},
   "source": [
    "## Random Forest Classifier"
   ]
  },
  {
   "cell_type": "markdown",
   "metadata": {},
   "source": [
    "A benchmark result:"
   ]
  },
  {
   "cell_type": "code",
   "execution_count": 545,
   "metadata": {},
   "outputs": [
    {
     "data": {
      "text/plain": [
       "(0.727, 0.751)"
      ]
     },
     "execution_count": 545,
     "metadata": {},
     "output_type": "execute_result"
    }
   ],
   "source": [
    "from sklearn.ensemble import RandomForestClassifier\n",
    "\n",
    "rf_clf = RandomForestClassifier().fit(X_train, y_train)\n",
    "rf_clf.score(X_valid, y_valid).round(3), roc_auc_score(y_valid, rf_clf.predict_proba(X_valid)[:,1]).round(3)"
   ]
  },
  {
   "cell_type": "markdown",
   "metadata": {},
   "source": [
    "Used GridSearch to search for optimal parameter values"
   ]
  },
  {
   "cell_type": "code",
   "execution_count": 547,
   "metadata": {},
   "outputs": [
    {
     "name": "stdout",
     "output_type": "stream",
     "text": [
      "Train set accuracy:  0.7319543941075572\n",
      "Test set accuracy:  0.7320579955807125\n",
      "Grid best parameter (max. accu):  {'max_depth': 4, 'max_features': 13}\n",
      "Grid best parameter (max. accu):  RandomForestClassifier(max_depth=4, max_features=13)\n"
     ]
    }
   ],
   "source": [
    "clf = RandomForestClassifier().fit(X_train, y_train)\n",
    "\n",
    "grid_values = {'max_features': range(7,17,3), 'max_depth':range(2,5)}\n",
    "\n",
    "from sklearn.model_selection import GridSearchCV\n",
    "grid_clf = GridSearchCV(clf, param_grid = grid_values, scoring = 'accuracy', n_jobs=-1).fit(X_train, y_train)\n",
    "\n",
    "print('Train set accuracy: ', grid_clf.score(X_train, y_train))\n",
    "print('Test set accuracy: ', grid_clf.score(X_valid, y_valid))\n",
    "print('Grid best parameter (max. accu): ', grid_clf.best_params_)\n",
    "print('Grid best parameter (max. accu): ', grid_clf.best_estimator_)"
   ]
  },
  {
   "cell_type": "markdown",
   "metadata": {},
   "source": [
    "Used cross validation to obtain accuracy scores (used the samples split from any data used in training)."
   ]
  },
  {
   "cell_type": "code",
   "execution_count": 548,
   "metadata": {},
   "outputs": [
    {
     "name": "stdout",
     "output_type": "stream",
     "text": [
      "The accuracy score:  0.7317553041668869\n"
     ]
    }
   ],
   "source": [
    "clf = RandomForestClassifier(max_depth=4, max_features=13)\n",
    "scores = cross_val_score(clf, X_test, y_test, cv=3, scoring = 'accuracy', n_jobs=-1)\n",
    "print('The accuracy score: ', np.mean(scores))"
   ]
  },
  {
   "cell_type": "code",
   "execution_count": 551,
   "metadata": {},
   "outputs": [
    {
     "data": {
      "text/plain": [
       "0.7642313827223294"
      ]
     },
     "execution_count": 551,
     "metadata": {},
     "output_type": "execute_result"
    }
   ],
   "source": [
    "#clf = RandomForestClassifier(max_depth=4, max_features=13).fit(X_train, y_train)\n",
    "#roc_auc_score(y_test, clf.predict_proba(X_test)[:,1])"
   ]
  },
  {
   "cell_type": "markdown",
   "metadata": {},
   "source": [
    "## Some other algorithms tried but was not pursued more\n",
    "\n",
    "(i) MLPClassifier\n",
    "\n",
    "(ii) K-Nearest Neighbor\n",
    "\n",
    "(iii) Gaussian Naive Bayes"
   ]
  },
  {
   "cell_type": "code",
   "execution_count": 136,
   "metadata": {},
   "outputs": [
    {
     "data": {
      "text/plain": [
       "(0.66, 0.76)"
      ]
     },
     "execution_count": 136,
     "metadata": {},
     "output_type": "execute_result"
    }
   ],
   "source": [
    "from sklearn.neural_network import MLPClassifier\n",
    "\n",
    "nn_clf = MLPClassifier(hidden_layer_sizes = [100], random_state = 0, max_iter=1000).fit(X_train, y_train)\n",
    "nn_clf.score(X_test, y_test).round(2), roc_auc_score(y_test, nn_clf.predict_proba(X_test)[:,1]).round(2)"
   ]
  },
  {
   "cell_type": "code",
   "execution_count": 27,
   "metadata": {},
   "outputs": [
    {
     "data": {
      "text/plain": [
       "(0.7, 0.71)"
      ]
     },
     "execution_count": 27,
     "metadata": {},
     "output_type": "execute_result"
    }
   ],
   "source": [
    "from sklearn.neighbors import KNeighborsClassifier\n",
    "knn_clf = KNeighborsClassifier().fit(X_train, y_train)\n",
    "knn_clf.score(X_test, y_test).round(2), roc_auc_score(y_test, knn_clf.predict_proba(X_test)[:,1]).round(2)"
   ]
  },
  {
   "cell_type": "code",
   "execution_count": 28,
   "metadata": {},
   "outputs": [
    {
     "data": {
      "text/plain": [
       "(0.7, 0.71)"
      ]
     },
     "execution_count": 28,
     "metadata": {},
     "output_type": "execute_result"
    }
   ],
   "source": [
    "from sklearn.naive_bayes import GaussianNB\n",
    "nb_clf = GaussianNB().fit(X_train, y_train)\n",
    "knn_clf.score(X_test, y_test).round(2), roc_auc_score(y_test, knn_clf.predict_proba(X_test)[:,1]).round(2)"
   ]
  },
  {
   "cell_type": "code",
   "execution_count": null,
   "metadata": {},
   "outputs": [],
   "source": []
  }
 ],
 "metadata": {
  "kernelspec": {
   "display_name": "Python 3",
   "language": "python",
   "name": "python3"
  },
  "language_info": {
   "codemirror_mode": {
    "name": "ipython",
    "version": 3
   },
   "file_extension": ".py",
   "mimetype": "text/x-python",
   "name": "python",
   "nbconvert_exporter": "python",
   "pygments_lexer": "ipython3",
   "version": "3.7.7"
  }
 },
 "nbformat": 4,
 "nbformat_minor": 4
}
